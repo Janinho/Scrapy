{
 "cells": [
  {
   "cell_type": "markdown",
   "metadata": {},
   "source": [
    "# Conjunto de dados público brasileiro de comércio eletrônico da Olist"
   ]
  },
  {
   "cell_type": "markdown",
   "metadata": {},
   "source": [
    "#Alunos: JANICLECIO DIEGO - POS1370088 ,\n",
    "#Alunos: NAYARA\n",
    "#Alunos: JOYCE LOURENCO"
   ]
  },
  {
   "cell_type": "code",
   "execution_count": 69,
   "metadata": {},
   "outputs": [
    {
     "name": "stdout",
     "output_type": "stream",
     "text": [
      "sys.version_info(major=3, minor=7, micro=6, releaselevel='final', serial=0)\n"
     ]
    }
   ],
   "source": [
    "import sys\n",
    "print(sys.version_info)"
   ]
  },
  {
   "cell_type": "code",
   "execution_count": 70,
   "metadata": {},
   "outputs": [],
   "source": [
    "import pandas as pd\n",
    "import os "
   ]
  },
  {
   "cell_type": "code",
   "execution_count": 71,
   "metadata": {},
   "outputs": [
    {
     "data": {
      "text/plain": [
       "'C:\\\\Users\\\\diego.silva\\\\Desktop\\\\Arquivos Area de Trabalho\\\\MBA\\\\DINERT\\\\Capturas\\\\ATIVIDADE 3\\\\expensesv2-master\\\\processamento'"
      ]
     },
     "execution_count": 71,
     "metadata": {},
     "output_type": "execute_result"
    }
   ],
   "source": [
    "pwd"
   ]
  },
  {
   "cell_type": "code",
   "execution_count": 72,
   "metadata": {
    "scrolled": true
   },
   "outputs": [
    {
     "data": {
      "text/html": [
       "<div>\n",
       "<style scoped>\n",
       "    .dataframe tbody tr th:only-of-type {\n",
       "        vertical-align: middle;\n",
       "    }\n",
       "\n",
       "    .dataframe tbody tr th {\n",
       "        vertical-align: top;\n",
       "    }\n",
       "\n",
       "    .dataframe thead th {\n",
       "        text-align: right;\n",
       "    }\n",
       "</style>\n",
       "<table border=\"1\" class=\"dataframe\">\n",
       "  <thead>\n",
       "    <tr style=\"text-align: right;\">\n",
       "      <th></th>\n",
       "      <th>Province/State</th>\n",
       "      <th>Country</th>\n",
       "      <th>Date last updated</th>\n",
       "      <th>Confirmed</th>\n",
       "      <th>Suspected</th>\n",
       "      <th>Recovered</th>\n",
       "      <th>Deaths</th>\n",
       "    </tr>\n",
       "  </thead>\n",
       "  <tbody>\n",
       "    <tr>\n",
       "      <th>0</th>\n",
       "      <td>Shanghai</td>\n",
       "      <td>Mainland China</td>\n",
       "      <td>1/21/2020</td>\n",
       "      <td>9.0</td>\n",
       "      <td>10.0</td>\n",
       "      <td>NaN</td>\n",
       "      <td>NaN</td>\n",
       "    </tr>\n",
       "    <tr>\n",
       "      <th>1</th>\n",
       "      <td>Yunnan</td>\n",
       "      <td>Mainland China</td>\n",
       "      <td>1/21/2020</td>\n",
       "      <td>1.0</td>\n",
       "      <td>NaN</td>\n",
       "      <td>NaN</td>\n",
       "      <td>NaN</td>\n",
       "    </tr>\n",
       "    <tr>\n",
       "      <th>2</th>\n",
       "      <td>Beijing</td>\n",
       "      <td>Mainland China</td>\n",
       "      <td>1/21/2020</td>\n",
       "      <td>10.0</td>\n",
       "      <td>NaN</td>\n",
       "      <td>NaN</td>\n",
       "      <td>NaN</td>\n",
       "    </tr>\n",
       "    <tr>\n",
       "      <th>3</th>\n",
       "      <td>Taiwan</td>\n",
       "      <td>Mainland China</td>\n",
       "      <td>1/21/2020</td>\n",
       "      <td>1.0</td>\n",
       "      <td>NaN</td>\n",
       "      <td>NaN</td>\n",
       "      <td>NaN</td>\n",
       "    </tr>\n",
       "    <tr>\n",
       "      <th>4</th>\n",
       "      <td>Jilin</td>\n",
       "      <td>Mainland China</td>\n",
       "      <td>1/21/2020</td>\n",
       "      <td>NaN</td>\n",
       "      <td>1.0</td>\n",
       "      <td>NaN</td>\n",
       "      <td>NaN</td>\n",
       "    </tr>\n",
       "  </tbody>\n",
       "</table>\n",
       "</div>"
      ],
      "text/plain": [
       "  Province/State         Country Date last updated  Confirmed  Suspected  \\\n",
       "0       Shanghai  Mainland China         1/21/2020        9.0       10.0   \n",
       "1         Yunnan  Mainland China         1/21/2020        1.0        NaN   \n",
       "2        Beijing  Mainland China         1/21/2020       10.0        NaN   \n",
       "3         Taiwan  Mainland China         1/21/2020        1.0        NaN   \n",
       "4          Jilin  Mainland China         1/21/2020        NaN        1.0   \n",
       "\n",
       "   Recovered  Deaths  \n",
       "0        NaN     NaN  \n",
       "1        NaN     NaN  \n",
       "2        NaN     NaN  \n",
       "3        NaN     NaN  \n",
       "4        NaN     NaN  "
      ]
     },
     "execution_count": 72,
     "metadata": {},
     "output_type": "execute_result"
    }
   ],
   "source": [
    "coronavirus = pd.read_csv(r'C:\\Users\\diego.silva\\Desktop\\Arquivos Area de Trabalho\\MBA\\DINERT\\Capturas\\ATIVIDADE 3\\expensesv2-master\\dados\\conta\\2019-coronavirus-dataset-01212020-01262020\\2019_nC0v_20200121_20200126 - SUMMARY.csv')\n",
    "coronavirus.head()"
   ]
  },
  {
   "cell_type": "code",
   "execution_count": 79,
   "metadata": {},
   "outputs": [],
   "source": [
    "coronavirus = coronavirus.sort_values('Country')"
   ]
  },
  {
   "cell_type": "code",
   "execution_count": 80,
   "metadata": {},
   "outputs": [
    {
     "data": {
      "text/html": [
       "<div>\n",
       "<style scoped>\n",
       "    .dataframe tbody tr th:only-of-type {\n",
       "        vertical-align: middle;\n",
       "    }\n",
       "\n",
       "    .dataframe tbody tr th {\n",
       "        vertical-align: top;\n",
       "    }\n",
       "\n",
       "    .dataframe thead th {\n",
       "        text-align: right;\n",
       "    }\n",
       "</style>\n",
       "<table border=\"1\" class=\"dataframe\">\n",
       "  <thead>\n",
       "    <tr style=\"text-align: right;\">\n",
       "      <th></th>\n",
       "      <th>Province/State</th>\n",
       "      <th>Country</th>\n",
       "      <th>Date last updated</th>\n",
       "      <th>Confirmed</th>\n",
       "      <th>Suspected</th>\n",
       "      <th>Recovered</th>\n",
       "      <th>Deaths</th>\n",
       "    </tr>\n",
       "  </thead>\n",
       "  <tbody>\n",
       "    <tr>\n",
       "      <th>364</th>\n",
       "      <td>NaN</td>\n",
       "      <td>Australia</td>\n",
       "      <td>1/26/2020 11:00 AM</td>\n",
       "      <td>4.0</td>\n",
       "      <td>NaN</td>\n",
       "      <td>NaN</td>\n",
       "      <td>NaN</td>\n",
       "    </tr>\n",
       "    <tr>\n",
       "      <th>231</th>\n",
       "      <td>NaN</td>\n",
       "      <td>Australia</td>\n",
       "      <td>1/25/2020 12:00 AM</td>\n",
       "      <td>1.0</td>\n",
       "      <td>NaN</td>\n",
       "      <td>NaN</td>\n",
       "      <td>NaN</td>\n",
       "    </tr>\n",
       "    <tr>\n",
       "      <th>319</th>\n",
       "      <td>NaN</td>\n",
       "      <td>Australia</td>\n",
       "      <td>1/25/2020 12:00 PM</td>\n",
       "      <td>4.0</td>\n",
       "      <td>NaN</td>\n",
       "      <td>NaN</td>\n",
       "      <td>NaN</td>\n",
       "    </tr>\n",
       "    <tr>\n",
       "      <th>107</th>\n",
       "      <td>NaN</td>\n",
       "      <td>Australia</td>\n",
       "      <td>1/23/20 12:00 PM</td>\n",
       "      <td>NaN</td>\n",
       "      <td>1.0</td>\n",
       "      <td>NaN</td>\n",
       "      <td>NaN</td>\n",
       "    </tr>\n",
       "    <tr>\n",
       "      <th>275</th>\n",
       "      <td>NaN</td>\n",
       "      <td>Australia</td>\n",
       "      <td>1/25/2020 12:00 PM</td>\n",
       "      <td>4.0</td>\n",
       "      <td>NaN</td>\n",
       "      <td>NaN</td>\n",
       "      <td>NaN</td>\n",
       "    </tr>\n",
       "    <tr>\n",
       "      <th>...</th>\n",
       "      <td>...</td>\n",
       "      <td>...</td>\n",
       "      <td>...</td>\n",
       "      <td>...</td>\n",
       "      <td>...</td>\n",
       "      <td>...</td>\n",
       "      <td>...</td>\n",
       "    </tr>\n",
       "    <tr>\n",
       "      <th>148</th>\n",
       "      <td>NaN</td>\n",
       "      <td>Vietnam</td>\n",
       "      <td>1/24/2020 12:00 AM</td>\n",
       "      <td>2.0</td>\n",
       "      <td>NaN</td>\n",
       "      <td>NaN</td>\n",
       "      <td>NaN</td>\n",
       "    </tr>\n",
       "    <tr>\n",
       "      <th>317</th>\n",
       "      <td>NaN</td>\n",
       "      <td>Vietnam</td>\n",
       "      <td>1/25/2020 12:00 PM</td>\n",
       "      <td>2.0</td>\n",
       "      <td>NaN</td>\n",
       "      <td>NaN</td>\n",
       "      <td>NaN</td>\n",
       "    </tr>\n",
       "    <tr>\n",
       "      <th>106</th>\n",
       "      <td>NaN</td>\n",
       "      <td>Vietnam</td>\n",
       "      <td>1/23/20 12:00 PM</td>\n",
       "      <td>2.0</td>\n",
       "      <td>NaN</td>\n",
       "      <td>NaN</td>\n",
       "      <td>NaN</td>\n",
       "    </tr>\n",
       "    <tr>\n",
       "      <th>273</th>\n",
       "      <td>NaN</td>\n",
       "      <td>Vietnam</td>\n",
       "      <td>1/25/2020 12:00 PM</td>\n",
       "      <td>2.0</td>\n",
       "      <td>NaN</td>\n",
       "      <td>NaN</td>\n",
       "      <td>NaN</td>\n",
       "    </tr>\n",
       "    <tr>\n",
       "      <th>229</th>\n",
       "      <td>NaN</td>\n",
       "      <td>Vietnam</td>\n",
       "      <td>1/25/2020 12:00 AM</td>\n",
       "      <td>2.0</td>\n",
       "      <td>NaN</td>\n",
       "      <td>NaN</td>\n",
       "      <td>NaN</td>\n",
       "    </tr>\n",
       "  </tbody>\n",
       "</table>\n",
       "<p>368 rows × 7 columns</p>\n",
       "</div>"
      ],
      "text/plain": [
       "    Province/State    Country   Date last updated  Confirmed  Suspected  \\\n",
       "364            NaN  Australia  1/26/2020 11:00 AM        4.0        NaN   \n",
       "231            NaN  Australia  1/25/2020 12:00 AM        1.0        NaN   \n",
       "319            NaN  Australia  1/25/2020 12:00 PM        4.0        NaN   \n",
       "107            NaN  Australia    1/23/20 12:00 PM        NaN        1.0   \n",
       "275            NaN  Australia  1/25/2020 12:00 PM        4.0        NaN   \n",
       "..             ...        ...                 ...        ...        ...   \n",
       "148            NaN    Vietnam  1/24/2020 12:00 AM        2.0        NaN   \n",
       "317            NaN    Vietnam  1/25/2020 12:00 PM        2.0        NaN   \n",
       "106            NaN    Vietnam    1/23/20 12:00 PM        2.0        NaN   \n",
       "273            NaN    Vietnam  1/25/2020 12:00 PM        2.0        NaN   \n",
       "229            NaN    Vietnam  1/25/2020 12:00 AM        2.0        NaN   \n",
       "\n",
       "     Recovered  Deaths  \n",
       "364        NaN     NaN  \n",
       "231        NaN     NaN  \n",
       "319        NaN     NaN  \n",
       "107        NaN     NaN  \n",
       "275        NaN     NaN  \n",
       "..         ...     ...  \n",
       "148        NaN     NaN  \n",
       "317        NaN     NaN  \n",
       "106        NaN     NaN  \n",
       "273        NaN     NaN  \n",
       "229        NaN     NaN  \n",
       "\n",
       "[368 rows x 7 columns]"
      ]
     },
     "execution_count": 80,
     "metadata": {},
     "output_type": "execute_result"
    }
   ],
   "source": [
    "coronavirus"
   ]
  },
  {
   "cell_type": "markdown",
   "metadata": {},
   "source": [
    "## Soma de CASOS CONFIRMADOS CORONAVIRUS POR REGIAO"
   ]
  },
  {
   "cell_type": "code",
   "execution_count": 81,
   "metadata": {},
   "outputs": [
    {
     "data": {
      "text/plain": [
       "Country\n",
       "Mainland China    10056.0\n",
       "Thailand             43.0\n",
       "Hong Kong            29.0\n",
       "Taiwan               18.0\n",
       "Singapore            18.0\n",
       "Japan                18.0\n",
       "Macau                17.0\n",
       "South Korea          16.0\n",
       "Vietnam              14.0\n",
       "US                   14.0\n",
       "France               14.0\n",
       "Malaysia             13.0\n",
       "Australia            13.0\n",
       "Nepal                 4.0\n",
       "United States         1.0\n",
       "Canada                1.0\n",
       "Mexico                0.0\n",
       "Philippines           0.0\n",
       "Colombia              0.0\n",
       "China                 0.0\n",
       "Brazil                0.0\n",
       "Name: Confirmed, dtype: float64"
      ]
     },
     "execution_count": 81,
     "metadata": {},
     "output_type": "execute_result"
    }
   ],
   "source": [
    "coronavirus.groupby('Country')['Confirmed'].sum().sort_values(ascending=False)"
   ]
  },
  {
   "cell_type": "markdown",
   "metadata": {},
   "source": [
    "## CASOS SUSPEITOS "
   ]
  },
  {
   "cell_type": "code",
   "execution_count": 82,
   "metadata": {
    "scrolled": true
   },
   "outputs": [
    {
     "data": {
      "text/plain": [
       "Country\n",
       "Mainland China    1073.0\n",
       "Hong Kong          905.0\n",
       "Malaysia             4.0\n",
       "Philippines          4.0\n",
       "Brazil               1.0\n",
       "Colombia             1.0\n",
       "Mexico               1.0\n",
       "Australia            1.0\n",
       "Nepal                0.0\n",
       "Singapore            0.0\n",
       "United States        0.0\n",
       "South Korea          0.0\n",
       "Macau                0.0\n",
       "Japan                0.0\n",
       "Taiwan               0.0\n",
       "France               0.0\n",
       "Thailand             0.0\n",
       "China                0.0\n",
       "Canada               0.0\n",
       "US                   0.0\n",
       "Vietnam              0.0\n",
       "Name: Suspected, dtype: float64"
      ]
     },
     "execution_count": 82,
     "metadata": {},
     "output_type": "execute_result"
    }
   ],
   "source": [
    "coronavirus.groupby('Country')['Suspected'].sum().sort_values(ascending=False)"
   ]
  },
  {
   "cell_type": "markdown",
   "metadata": {},
   "source": [
    "## MORTES"
   ]
  },
  {
   "cell_type": "code",
   "execution_count": 95,
   "metadata": {
    "scrolled": true
   },
   "outputs": [
    {
     "data": {
      "text/plain": [
       "Country\n",
       "Mainland China    265.0\n",
       "Vietnam             0.0\n",
       "Brazil              0.0\n",
       "Canada              0.0\n",
       "China               0.0\n",
       "Colombia            0.0\n",
       "France              0.0\n",
       "Hong Kong           0.0\n",
       "Japan               0.0\n",
       "Macau               0.0\n",
       "Malaysia            0.0\n",
       "United States       0.0\n",
       "Mexico              0.0\n",
       "Nepal               0.0\n",
       "Philippines         0.0\n",
       "Singapore           0.0\n",
       "South Korea         0.0\n",
       "Taiwan              0.0\n",
       "Thailand            0.0\n",
       "US                  0.0\n",
       "Australia           0.0\n",
       "Name: Deaths, dtype: float64"
      ]
     },
     "execution_count": 95,
     "metadata": {},
     "output_type": "execute_result"
    }
   ],
   "source": [
    "coronavirus.groupby('Country')['Deaths'].sum().sort_values(ascending=False)"
   ]
  },
  {
   "cell_type": "code",
   "execution_count": 98,
   "metadata": {},
   "outputs": [],
   "source": [
    "%matplotlib inline\n",
    "import matplotlib.pyplot as plt\n",
    "plt.style.use('seaborn-whitegrid')\n",
    "import numpy as np"
   ]
  },
  {
   "cell_type": "code",
   "execution_count": 99,
   "metadata": {},
   "outputs": [],
   "source": [
    "import numpy as np\n",
    "import matplotlib.pyplot as plt\n",
    "import seaborn as sns\n",
    "from matplotlib import pyplot\n",
    "%matplotlib inline"
   ]
  },
  {
   "cell_type": "code",
   "execution_count": 103,
   "metadata": {},
   "outputs": [
    {
     "data": {
      "text/plain": [
       "<matplotlib.axes._subplots.AxesSubplot at 0x183ce52ce88>"
      ]
     },
     "execution_count": 103,
     "metadata": {},
     "output_type": "execute_result"
    },
    {
     "data": {
      "image/png": "[encoded data removed]",
      "text/plain": [
       "<Figure size 1440x720 with 1 Axes>"
      ]
     },
     "metadata": {
      "needs_background": "light"
     },
     "output_type": "display_data"
    }
   ],
   "source": [
    "\n",
    "coronavirus.groupby('Country')['Deaths'].sum().sort_values(ascending=False).plot(figsize=(20, 10), title='Soma de Mortes', grid=True, color = \"red\", )\n",
    "\n"
   ]
  },
  {
   "cell_type": "code",
   "execution_count": 108,
   "metadata": {},
   "outputs": [
    {
     "data": {
      "text/plain": [
       "<matplotlib.legend.Legend at 0x183d074ee48>"
      ]
     },
     "execution_count": 108,
     "metadata": {},
     "output_type": "execute_result"
    },
    {
     "data": {
      "image/png": "[encoded data removed]",
      "text/plain": [
       "<Figure size 432x288 with 1 Axes>"
      ]
     },
     "metadata": {
      "needs_background": "light"
     },
     "output_type": "display_data"
    }
   ],
   "source": [
    "import matplotlib.pyplot as plt\n",
    "casos = ['Confirmed','Suspected']\n",
    "quantidade_casos = [265, 1180]\n",
    "\n",
    "plt.bar(casos, quantidade_casos, color=['yellowgreen', 'blue'])\n",
    "plt.xticks(casos)\n",
    "plt.xlabel('', weight=\"bold\")\n",
    "plt.ylabel('',weight=\"bold\")\n",
    "plt.title('Numero de casos',size=20, weight=\"bold\")\n",
    "color=['yellowgreen', 'lightgreen', 'blue', 'gold', 'red', 'lightsalmon']\n",
    "plt.legend([casos],\n",
    "           title=\"Casos\",\n",
    "            loc=\"best\",\n",
    "            bbox_to_anchor=(2,0,0.8,1))"
   ]
  },
  {
   "cell_type": "code",
   "execution_count": null,
   "metadata": {},
   "outputs": [],
   "source": []
  }
 ],
 "metadata": {
  "kernelspec": {
   "display_name": "Python 3",
   "language": "python",
   "name": "python3"
  },
  "language_info": {
   "codemirror_mode": {
    "name": "ipython",
    "version": 3
   },
   "file_extension": ".py",
   "mimetype": "text/x-python",
   "name": "python",
   "nbconvert_exporter": "python",
   "pygments_lexer": "ipython3",
   "version": "3.7.6"
  }
 },
 "nbformat": 4,
 "nbformat_minor": 2
}
